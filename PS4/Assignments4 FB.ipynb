{
 "cells": [
  {
   "cell_type": "markdown",
   "id": "1cd0b37a",
   "metadata": {},
   "source": [
    "Assignment 4 (due on 12/06)\n",
    "\n",
    "Student：黄丕柱（12332298），Gtihub：HuangPizhu\n",
    "\n",
    "批改人：赵淑慧\n",
    "\n",
    "得分：27.5/30"
   ]
  },
  {
   "cell_type": "markdown",
   "id": "4e38d672",
   "metadata": {},
   "source": [
    "# PS1. Global Earthquakes\n",
    "10/10  \n",
    "题上cmap是'Reds'"
   ]
  },
  {
   "cell_type": "markdown",
   "id": "44b42bd6",
   "metadata": {},
   "source": [
    "# PS2. Explore a netCDF dataset\n",
    "17.5/20  \n",
    "1. 缺少legend和annotation，见ax.legend()和ax.annotate()方法。8/10\n",
    "2. 同上；画的很用心加1.5分。8+1.5/10"
   ]
  }
 ],
 "metadata": {
  "kernelspec": {
   "display_name": "py39ta",
   "language": "python",
   "name": "ta"
  },
  "language_info": {
   "codemirror_mode": {
    "name": "ipython",
    "version": 3
   },
   "file_extension": ".py",
   "mimetype": "text/x-python",
   "name": "python",
   "nbconvert_exporter": "python",
   "pygments_lexer": "ipython3",
   "version": "3.9.18"
  }
 },
 "nbformat": 4,
 "nbformat_minor": 5
}
